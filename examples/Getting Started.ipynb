{
 "cells": [
  {
   "cell_type": "markdown",
   "metadata": {},
   "source": [
    "# Getting Started\n",
    "\n",
    "Let's find out the basic usage cases for the **netallocation** package! \n",
    "\n",
    "You can install the package via [pypi](https://pypi.org/project/netallocation/) with\n",
    "    \n",
    "```\n",
    "pip install netallocation\n",
    "```\n",
    "\n",
    "and run this notebook locally on your computer. "
   ]
  },
  {
   "cell_type": "code",
   "execution_count": null,
   "metadata": {},
   "outputs": [],
   "source": [
    "import netallocation as ntl\n",
    "import matplotlib.pyplot as plt"
   ]
  },
  {
   "cell_type": "markdown",
   "metadata": {},
   "source": [
    "We want to have a look at a small *toy* pypsa network"
   ]
  },
  {
   "cell_type": "code",
   "execution_count": null,
   "metadata": {},
   "outputs": [],
   "source": [
    "n = ntl.test.get_network_ac_dc()"
   ]
  },
  {
   "cell_type": "markdown",
   "metadata": {},
   "source": [
    "This network has the following N = 9 buses:"
   ]
  },
  {
   "cell_type": "code",
   "execution_count": null,
   "metadata": {},
   "outputs": [],
   "source": [
    "n.buses"
   ]
  },
  {
   "cell_type": "markdown",
   "metadata": {},
   "source": [
    "and L = 11 branches"
   ]
  },
  {
   "cell_type": "code",
   "execution_count": null,
   "metadata": {},
   "outputs": [],
   "source": [
    "ntl.utils.check_carriers(n)\n",
    "n.branches()[['bus0', 'bus1', 'carrier']]"
   ]
  },
  {
   "cell_type": "markdown",
   "metadata": {},
   "source": [
    "The network consists of 3 passive DC and 7 passive AC lines, there is one controllable HVDC link from London to Bremen. The **capacities**, **dispatch** and **flow** of the network is already optimized, let's see how the network looks like: "
   ]
  },
  {
   "cell_type": "code",
   "execution_count": null,
   "metadata": {
    "scrolled": true
   },
   "outputs": [],
   "source": [
    "plot_kwargs = dict(line_colors=n.branches().carrier.map({'DC': 'green', 'AC': 'purple'}), color_geomap=True)\n",
    "\n",
    "fig = plt.figure(figsize=(9,9))\n",
    "n.plot(bus_sizes=n.generators.groupby(['bus', 'carrier']).p_nom_opt.sum()/5e3, margin=.5, \n",
    "       title='Wind - blue, Gas - red, AC - purple, DC - green', **plot_kwargs);"
   ]
  },
  {
   "cell_type": "markdown",
   "metadata": {},
   "source": [
    "# Allocating Flows"
   ]
  },
  {
   "cell_type": "markdown",
   "metadata": {},
   "source": [
    "Let's have a closer look at the **first** snapshot"
   ]
  },
  {
   "cell_type": "code",
   "execution_count": null,
   "metadata": {},
   "outputs": [],
   "source": [
    "sn = n.snapshots[0]\n",
    "fig = plt.figure(figsize=(9,9))\n",
    "n.plot(flow=sn, line_widths={'Line':.1, 'Link':.1}, **plot_kwargs);"
   ]
  },
  {
   "cell_type": "markdown",
   "metadata": {},
   "source": [
    "We are interested in the flow originating from the bus in **Norway**. Which way does is flow through the network? Where does its power flow to? \n",
    "\n",
    "Therefore we **allocate** the flow using the *flow tracing* (Average participation) method using the function `allocate_flow()`"
   ]
  },
  {
   "cell_type": "code",
   "execution_count": null,
   "metadata": {},
   "outputs": [],
   "source": [
    "ap = ntl.allocate_flow(n, snapshots=sn, method='Average participation')\n",
    "ap"
   ]
  },
  {
   "cell_type": "markdown",
   "metadata": {},
   "source": [
    "There are two variables, `peer_to_peer` of dimension **source** $\\times$ **sink** and `peer_on_branch_to_peer` of dimension **branch** $\\times$ **source** $\\times$ **sink**. With the first one, we can have look where **Norway** delivers power."
   ]
  },
  {
   "cell_type": "code",
   "execution_count": null,
   "metadata": {},
   "outputs": [],
   "source": [
    "ap.peer_to_peer.sel(source='Norway').to_series()[lambda ds: abs(ds)>=1e-7]"
   ]
  },
  {
   "cell_type": "markdown",
   "metadata": {},
   "source": [
    "With the second we can trace the flow originating from **Norway**:"
   ]
  },
  {
   "cell_type": "code",
   "execution_count": null,
   "metadata": {},
   "outputs": [],
   "source": [
    "flow = ap.peer_on_branch_to_peer.sel(source='Norway').sum('sink')\n",
    "n.plot(flow=flow.to_series()/10, **plot_kwargs);"
   ]
  },
  {
   "cell_type": "markdown",
   "metadata": {},
   "source": [
    "Is this concistent with the `P2P` allocation? This can be checked by summing over all power flowing into a bus (Incidence matrix!) "
   ]
  },
  {
   "cell_type": "code",
   "execution_count": null,
   "metadata": {},
   "outputs": [],
   "source": [
    "(ntl.Incidence(n) @ flow).to_series()[lambda ds: abs(ds)>=1e-7]"
   ]
  },
  {
   "cell_type": "markdown",
   "metadata": {},
   "source": [
    "# Allocating $CO_2$-emissions"
   ]
  },
  {
   "cell_type": "code",
   "execution_count": null,
   "metadata": {},
   "outputs": [],
   "source": [
    "co2_allocation = ntl.cost.weight_with_carrier_attribute(n, 'ap', attr='co2_emissions')"
   ]
  },
  {
   "cell_type": "code",
   "execution_count": null,
   "metadata": {},
   "outputs": [],
   "source": [
    "co2_flow = co2_allocation.peer_on_branch_to_peer.sum(['snapshot', 'source', 'sink', 'source_carrier'])\n",
    "n.plot(flow = co2_flow.to_series(), jitter=.7, margin=.2, title='Average Carbon Flow', **plot_kwargs);"
   ]
  },
  {
   "cell_type": "code",
   "execution_count": null,
   "metadata": {},
   "outputs": [],
   "source": []
  }
 ],
 "metadata": {
  "@webio": {
   "lastCommId": null,
   "lastKernelId": null
  },
  "kernelspec": {
   "display_name": "Python 3",
   "language": "python",
   "name": "python3"
  },
  "language_info": {
   "codemirror_mode": {
    "name": "ipython",
    "version": 3
   },
   "file_extension": ".py",
   "mimetype": "text/x-python",
   "name": "python",
   "nbconvert_exporter": "python",
   "pygments_lexer": "ipython3",
   "version": "3.7.6"
  }
 },
 "nbformat": 4,
 "nbformat_minor": 4
}
